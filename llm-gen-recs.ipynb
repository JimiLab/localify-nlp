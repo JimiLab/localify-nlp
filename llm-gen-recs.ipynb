{
 "cells": [
  {
   "cell_type": "code",
   "execution_count": 6,
   "outputs": [
    {
     "ename": "ModuleNotFoundError",
     "evalue": "No module named 'openai'",
     "output_type": "error",
     "traceback": [
      "\u001B[0;31m---------------------------------------------------------------------------\u001B[0m",
      "\u001B[0;31mModuleNotFoundError\u001B[0m                       Traceback (most recent call last)",
      "Input \u001B[0;32mIn [6]\u001B[0m, in \u001B[0;36m<cell line: 3>\u001B[0;34m()\u001B[0m\n\u001B[1;32m      1\u001B[0m \u001B[38;5;28;01mfrom\u001B[39;00m \u001B[38;5;21;01muuid\u001B[39;00m \u001B[38;5;28;01mimport\u001B[39;00m UUID\n\u001B[1;32m      2\u001B[0m \u001B[38;5;28;01mfrom\u001B[39;00m \u001B[38;5;21;01mtyping\u001B[39;00m \u001B[38;5;28;01mimport\u001B[39;00m List\n\u001B[0;32m----> 3\u001B[0m \u001B[38;5;28;01mfrom\u001B[39;00m \u001B[38;5;21;01mopenai\u001B[39;00m \u001B[38;5;28;01mimport\u001B[39;00m OpenAI\n\u001B[1;32m      4\u001B[0m \u001B[38;5;28;01mimport\u001B[39;00m \u001B[38;5;21;01myaml\u001B[39;00m\n\u001B[1;32m      6\u001B[0m \u001B[38;5;28;01mwith\u001B[39;00m \u001B[38;5;28mopen\u001B[39m(\u001B[38;5;124m'\u001B[39m\u001B[38;5;124mconf.yaml\u001B[39m\u001B[38;5;124m'\u001B[39m, \u001B[38;5;124m'\u001B[39m\u001B[38;5;124mr\u001B[39m\u001B[38;5;124m'\u001B[39m) \u001B[38;5;28;01mas\u001B[39;00m file:\n",
      "\u001B[0;31mModuleNotFoundError\u001B[0m: No module named 'openai'"
     ]
    }
   ],
   "source": [
    "!pip install openai\n",
    "from uuid import UUID\n",
    "from typing import List\n",
    "from openai import OpenAI\n",
    "import yaml\n",
    "\n",
    "with open('conf.yaml', 'r') as file:\n",
    "    conf = yaml.safe_load(file)\n",
    "\n",
    "client = OpenAI(api_key=conf['openai-key'])"
   ],
   "metadata": {
    "collapsed": false
   }
  },
  {
   "cell_type": "code",
   "execution_count": 1,
   "outputs": [],
   "source": [
    "# This is an interface with two implementations;\n",
    "# GPTRecommender which implements everything by making API calls to ChatGPT's API\n",
    "# InternalRecommender which implements everything by generating responses from an internal model\n",
    "# - For this experiment, we will use one of Google's open-source Gemma models\n",
    "class Recommender:\n",
    "\n",
    "    def __init__(self, artists, prompt):\n",
    "        # essentially json of {artist_id: artist_data (genres tags, wiki, etc)}\n",
    "        self.artists = artists\n",
    "\n",
    "        # this will be different for each experiment\n",
    "        # \"I have a user that likes the following artists...\"\n",
    "        # Should end with something along the lines of \"ensure that your response ends with\n",
    "        # only an XML list of artist ids the ranked artists\" or something like that\n",
    "        # (obviously use names not ids for the first experiment)\n",
    "        # leave space in the string to use string formatting to insert the artist preferences and\n",
    "        # candidates\n",
    "        self.prompt = prompt\n",
    "\n",
    "    def recommend(self, seed_ids: List[UUID], candidate_ids: List[UUID]) -> List[UUID]:\n",
    "        raise NotImplementedError(f'{self.__class__} class is an interface and not intended for instantiation.')\n",
    "\n",
    "\n",
    "class GPTRecommender:\n",
    "\n",
    "    def __init__(self, artists):\n",
    "        super().__init__(artists)\n",
    "        # might want some more attributes in here for the API object if there is one\n",
    "\n",
    "    def recommend(self, seed_ids: List[UUID], candidate_ids: List[UUID]) -> List[UUID]:\n",
    "        # Algorithm:\n",
    "        # fetch the artist information for the seeds and candidates from self.artists\n",
    "        # string format that artist information into the prompt string\n",
    "        # send the request to ChatGPT\n",
    "        # parse the response for the artist ids using whatever method you told it in the prompt\n",
    "        # return a list of the ranked artists\n",
    "        pass\n",
    "\n",
    "\n",
    "class InternalRecommender:\n",
    "\n",
    "    def __init__(self, artists):\n",
    "        super().__init__(artists)\n",
    "        # might want a field in here for the model itself\n",
    "\n",
    "    def recommend(self, seed_ids: List[UUID], candidate_ids: List[UUID]) -> List[UUID]:\n",
    "        # Algorithm:\n",
    "        # fetch the artist information for the seeds and candidates from self.artists\n",
    "        # string format that artist information into the prompt string\n",
    "        # get a response from the model with the prompt (this is the only difference from above)\n",
    "        # parse the response for the artist ids using whatever method you told it in the prompt\n",
    "        # return a list of the ranked artists\n",
    "        pass\n"
   ],
   "metadata": {
    "collapsed": false
   }
  }
 ],
 "metadata": {
  "kernelspec": {
   "display_name": "Python 3 (ipykernel)",
   "language": "python",
   "name": "python3"
  },
  "language_info": {
   "codemirror_mode": {
    "name": "ipython",
    "version": 3
   },
   "file_extension": ".py",
   "mimetype": "text/x-python",
   "name": "python",
   "nbconvert_exporter": "python",
   "pygments_lexer": "ipython3",
   "version": "3.12.2"
  }
 },
 "nbformat": 4,
 "nbformat_minor": 5
}
