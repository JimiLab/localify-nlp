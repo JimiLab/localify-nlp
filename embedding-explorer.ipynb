{
 "cells": [
  {
   "cell_type": "code",
   "execution_count": 1,
   "id": "97dc672a-1993-4d0a-aaeb-d90ac5dec21e",
   "metadata": {},
   "outputs": [],
   "source": [
    "# Import libraries\n",
    "import json\n",
    "from sentence_transformers import SentenceTransformer\n",
    "import numpy as np\n",
    "from sklearn.metrics.pairwise import cosine_similarity\n",
    "from sklearn.preprocessing import normalize\n",
    "\n",
    "# Load your artist data (same as before)\n",
    "def load_artists(path=\"artists.json\"):\n",
    "    with open(path, 'r', encoding='utf-8') as f:\n",
    "        return json.load(f)\n",
    "\n",
    "artists = load_artists()"
   ]
  },
  {
   "cell_type": "code",
   "execution_count": 2,
   "id": "0c311a8b-b890-445d-a285-4a81c536fdf7",
   "metadata": {},
   "outputs": [
    {
     "data": {
      "application/vnd.jupyter.widget-view+json": {
       "model_id": "e81d163d8b8e4d3587e4c77e68e3aa12",
       "version_major": 2,
       "version_minor": 0
      },
      "text/plain": [
       "Batches:   0%|          | 0/325 [00:00<?, ?it/s]"
      ]
     },
     "metadata": {},
     "output_type": "display_data"
    },
    {
     "data": {
      "text/plain": [
       "(10388, 768)"
      ]
     },
     "execution_count": 2,
     "metadata": {},
     "output_type": "execute_result"
    }
   ],
   "source": [
    "# Load model\n",
    "model = SentenceTransformer('sentence-transformers/all-mpnet-base-v2')\n",
    "\n",
    "# Convert text to embeddings\n",
    "texts = [artist['wikipedia_content'] for artist in artists]\n",
    "embeddings_list = model.encode(texts, show_progress_bar=True)\n",
    "\n",
    "embeddings_list.shape"
   ]
  },
  {
   "cell_type": "code",
   "execution_count": 3,
   "id": "1d8653c7-7667-45b3-a6c9-e88cbd43570b",
   "metadata": {},
   "outputs": [],
   "source": [
    "# Map artist ID to corresponding embedding\n",
    "embeddings = {}\n",
    "for artist, embedding in zip(artists, embeddings_list):\n",
    "    artist_id = artist['id']\n",
    "    embeddings[artist_id] = embedding\n",
    "\n",
    "# Map artist ID to name\n",
    "id_to_name = {}\n",
    "for artist in artists:\n",
    "    id_to_name[artist['id']] = artist['name']"
   ]
  },
  {
   "cell_type": "code",
   "execution_count": 12,
   "id": "456732bf-5ab4-4239-9aee-52506b2a0081",
   "metadata": {},
   "outputs": [],
   "source": [
    "def recommend(seed_ids, all_ids, all_vecs, top_n=10):\n",
    "    \n",
    "    # Calculate average seed embedding\n",
    "    seed_vecs = [embeddings[seed_id] for seed_id in seed_ids]\n",
    "    avg_vec   = np.mean(seed_vecs, axis=0, keepdims=True)\n",
    "\n",
    "    # Compute cosine simulatity\n",
    "    sims = cosine_similarity(avg_vec, all_vecs)[0]\n",
    "\n",
    "    # Sort & Pick top_n artists\n",
    "    ranked = sorted(zip(all_ids, sims), key=lambda x: -x[1])\n",
    "    results = []\n",
    "    for artist_id, score in ranked:\n",
    "        if artist_id in seed_ids:\n",
    "            continue\n",
    "        results.append((artist_id, id_to_name[artist_id], float(score)))\n",
    "        if len(results) >= top_n:\n",
    "            break\n",
    "    return results"
   ]
  },
  {
   "cell_type": "markdown",
   "id": "89c3729e-2c58-431c-861e-5c2352782adb",
   "metadata": {},
   "source": [
    "# Testing"
   ]
  },
  {
   "cell_type": "code",
   "execution_count": 29,
   "id": "ef805f0e-e24f-4afa-84e4-acdf84783d7e",
   "metadata": {},
   "outputs": [],
   "source": [
    "#Initialize vectors\n",
    "all_ids = list(embeddings.keys())\n",
    "all_vecs = np.vstack([embeddings[i] for i in all_ids])"
   ]
  },
  {
   "cell_type": "code",
   "execution_count": 21,
   "id": "cc7a15f2-feaa-4ef5-85a9-34ddfbcb4ead",
   "metadata": {},
   "outputs": [
    {
     "name": "stdout",
     "output_type": "stream",
     "text": [
      "YoungBoy Never Broke Again (2f037e18-0b79-4c07-b3bf-c8079dd3a2c4): similarity 0.706\n",
      "Hit-Boy (86e2af2c-acc1-4efd-88bd-761bd95f0ea9): similarity 0.701\n",
      "Future (44006268-82b1-4352-9c97-43c9c5f2b0d0): similarity 0.680\n",
      "Kanye West (1f2d636c-12a6-4fc9-9734-a47b1df0a28c): similarity 0.679\n",
      "Big Sean (5e8056e9-239e-488f-a45e-0f3feefa29cd): similarity 0.677\n",
      "Kid Ink (6cdbd8d2-9ed4-41bb-8e5a-580add8be98a): similarity 0.657\n",
      "XXXTENTACION (5509b8c3-d952-4b58-9524-31e98e89c66a): similarity 0.651\n",
      "NGHTMRE (fbbfd79b-7ce7-49d1-9e1c-c9888a3aba88): similarity 0.650\n",
      "Young Thug (c848ae09-f65e-41e7-a9d8-00119f845432): similarity 0.648\n",
      "2 Chainz (c9180fc4-6029-41e2-8bac-eb5d8175e156): similarity 0.646\n"
     ]
    }
   ],
   "source": [
    "# Rappers\n",
    "test_seeds = [\n",
    "    \"2cca00c0-db1f-4630-b119-d937d1635024\",   #Drake\n",
    "    \"bbb6c760-16e8-4c28-b3d6-e7b295a2cadc\",   #Bad Bunny\n",
    "    \"c87f2137-16d8-4399-9e5f-77dec6102560\",   #Metro Boomin\n",
    "]\n",
    "\n",
    "top10 = recommend(test_seeds, all_ids, all_vecs, top_n=10)\n",
    "for art_id, name, score in top10:\n",
    "    print(f\"{name} ({art_id}): similarity {score:.3f}\")"
   ]
  },
  {
   "cell_type": "code",
   "execution_count": 22,
   "id": "823c8635-69f8-41dd-9d0a-7d3263ab6930",
   "metadata": {},
   "outputs": [
    {
     "name": "stdout",
     "output_type": "stream",
     "text": [
      "Brave Girls (1ae0129d-6575-45c7-9dc5-9822f4559519): similarity 0.665\n",
      "BTOB (4a513167-872a-413a-88e6-0f610797c04d): similarity 0.650\n",
      "KARA (ba012266-f87a-4ef3-9f82-2d1740d41db5): similarity 0.644\n",
      "2NE1 (08a8e126-a86b-4ad2-b2f2-9e3c0cc1da3e): similarity 0.637\n",
      "AOA (98719a8a-62d5-4f58-b246-056fb1024b09): similarity 0.635\n",
      "Stellar (1cc26eec-5807-474a-9439-48b3afcc76fd): similarity 0.634\n",
      "Girls' Generation (03128249-fdec-4441-a039-f70e4782a874): similarity 0.632\n",
      "BIGBANG (875f4377-851b-4b49-b640-f072b6b280c5): similarity 0.628\n",
      "(G)I-DLE (9644f780-3394-4faa-b6a8-d9de5dcb3044): similarity 0.624\n",
      "LOONA (f639b0c4-2fa7-45c5-9872-fbdab0b4e9c7): similarity 0.621\n"
     ]
    }
   ],
   "source": [
    "# K-Pop\n",
    "test_seeds = [\n",
    "    \"31f28501-1b65-4b86-890e-65e125b26892\",   #BlackPink\n",
    "    \"1b5d838d-3369-430a-92c2-3695fcbc838d\",   #Lisa\n",
    "    \"0109d633-21d1-46aa-a762-117c2c633149\",   #BTS\n",
    "]\n",
    "\n",
    "top10 = recommend(test_seeds, all_ids, all_vecs, top_n=10)\n",
    "for art_id, name, score in top10:\n",
    "    print(f\"{name} ({art_id}): similarity {score:.3f}\")"
   ]
  },
  {
   "cell_type": "code",
   "execution_count": 28,
   "id": "a4b27b00-ce36-4f88-ac4b-a84f0e4d592e",
   "metadata": {},
   "outputs": [
    {
     "name": "stdout",
     "output_type": "stream",
     "text": [
      "Avril Lavigne (e430f538-4fa7-4b6f-a8ea-c648276a0ddb): similarity 0.686\n",
      "Meghan Trainor (1436c057-115a-405d-abec-4f8f3e4a5b62): similarity 0.683\n",
      "Kelly Clarkson (c8672196-6d6c-4f87-a4a2-058902df0a72): similarity 0.683\n",
      "Christina Aguilera (48f4fb07-b7d3-4d35-9cb5-2302d53213cc): similarity 0.682\n",
      "Keyshia Cole (f7392184-9f79-42bb-8beb-6d17754c4dd2): similarity 0.678\n",
      "Alanis Morissette (92ab30ba-e4c3-48ea-8f69-bb58750b1927): similarity 0.675\n",
      "Michelle Williams (fcba9242-386c-46f2-916d-a77800348022): similarity 0.671\n",
      "Mariah Carey (997dfdfd-850f-40c4-b2ca-8424c5c8ecfa): similarity 0.669\n",
      "Rita Ora (b09bf343-e832-447b-8c27-84636a501c68): similarity 0.668\n",
      "Lauren Daigle (bccdf16a-a174-4930-ba70-5d7ff25e3a06): similarity 0.662\n"
     ]
    }
   ],
   "source": [
    "# Pop\n",
    "test_seeds = [\n",
    "    \"1b72e4a5-5d2e-419a-beca-8a32b8e6f32c\",   #Taylor Swift\n",
    "    \"0edd3ee3-6fa5-444d-ade4-791fb6d23e22\",   #Billie Eilish\n",
    "    \"5bc0af0c-f5df-4aa0-80c0-d08fc190bbd1\",   #Dua Lipa\n",
    "    \"564d7b65-b58a-4283-a9a7-4fe2b9f54b90\",   #Tate McRae\n",
    "    \"01452137-0f9f-4809-9f57-130b628701d9\",   #Beyoncé\n",
    "    \"73a18448-74fe-4e77-9d77-29393bc5597d\",   #Ariana Grande\n",
    "]\n",
    "\n",
    "top10 = recommend(test_seeds, all_ids, all_vecs, top_n=10)\n",
    "for art_id, name, score in top10:\n",
    "    print(f\"{name} ({art_id}): similarity {score:.3f}\")"
   ]
  },
  {
   "cell_type": "code",
   "execution_count": null,
   "id": "d86ff5f0-10c7-4ba5-ae31-b6d6e5b27589",
   "metadata": {},
   "outputs": [],
   "source": []
  }
 ],
 "metadata": {
  "kernelspec": {
   "display_name": "Python 3 (ipykernel)",
   "language": "python",
   "name": "python3"
  },
  "language_info": {
   "codemirror_mode": {
    "name": "ipython",
    "version": 3
   },
   "file_extension": ".py",
   "mimetype": "text/x-python",
   "name": "python",
   "nbconvert_exporter": "python",
   "pygments_lexer": "ipython3",
   "version": "3.12.2"
  }
 },
 "nbformat": 4,
 "nbformat_minor": 5
}
