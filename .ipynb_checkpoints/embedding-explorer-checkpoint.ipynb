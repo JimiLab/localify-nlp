{
 "cells": [
  {
   "cell_type": "code",
   "execution_count": 1,
   "id": "97dc672a-1993-4d0a-aaeb-d90ac5dec21e",
   "metadata": {},
   "outputs": [],
   "source": [
    "# Import libraries\n",
    "import json\n",
    "from sentence_transformers import SentenceTransformer\n",
    "import numpy as np\n",
    "from sklearn.metrics.pairwise import cosine_similarity\n",
    "from sklearn.preprocessing import normalize\n",
    "\n",
    "# Load your artist data (same as before)\n",
    "def load_artists(path=\"artists.json\"):\n",
    "    with open(path, 'r', encoding='utf-8') as f:\n",
    "        return json.load(f)\n",
    "\n",
    "artists = load_artists()"
   ]
  },
  {
   "cell_type": "code",
   "execution_count": 2,
   "id": "0c311a8b-b890-445d-a285-4a81c536fdf7",
   "metadata": {},
   "outputs": [
    {
     "data": {
      "application/vnd.jupyter.widget-view+json": {
       "model_id": "e81d163d8b8e4d3587e4c77e68e3aa12",
       "version_major": 2,
       "version_minor": 0
      },
      "text/plain": [
       "Batches:   0%|          | 0/325 [00:00<?, ?it/s]"
      ]
     },
     "metadata": {},
     "output_type": "display_data"
    },
    {
     "data": {
      "text/plain": [
       "(10388, 768)"
      ]
     },
     "execution_count": 2,
     "metadata": {},
     "output_type": "execute_result"
    }
   ],
   "source": [
    "# Load model\n",
    "model = SentenceTransformer('sentence-transformers/all-mpnet-base-v2')\n",
    "\n",
    "# Convert text to embeddings\n",
    "texts = [artist['wikipedia_content'] for artist in artists]\n",
    "embeddings_list = model.encode(texts, show_progress_bar=True)\n",
    "\n",
    "embeddings_list.shape"
   ]
  },
  {
   "cell_type": "code",
   "execution_count": 3,
   "id": "1d8653c7-7667-45b3-a6c9-e88cbd43570b",
   "metadata": {},
   "outputs": [],
   "source": [
    "# Map artist ID to corresponding embedding\n",
    "embeddings = {}\n",
    "for artist, embedding in zip(artists, embeddings_list):\n",
    "    artist_id = artist['id']\n",
    "    embeddings[artist_id] = embedding\n",
    "\n",
    "# Map artist ID to name\n",
    "id_to_name = {}\n",
    "for artist in artists:\n",
    "    id_to_name[artist['id']] = artist['name']"
   ]
  },
  {
   "cell_type": "code",
   "execution_count": 4,
   "id": "456732bf-5ab4-4239-9aee-52506b2a0081",
   "metadata": {},
   "outputs": [],
   "source": [
    "def recommend(seed_ids, all_ids, all_vecs, top_n=10, normalize_vecs=False):\n",
    "    \n",
    "    # Calculate average seed embedding\n",
    "    seed_vecs = [embeddings[seed_id] for seed_id in seed_ids]\n",
    "    avg_vec   = np.mean(seed_vecs, axis=0, keepdims=True)\n",
    "\n",
    "    # Optionally normalize avg_vectors\n",
    "    if normalize:\n",
    "        avg_vec  = normalize(avg_vec, axis=1)\n",
    "        all_vecs = normalize(all_vecs, axis=1)\n",
    "\n",
    "    # Compute cosine simulatity\n",
    "    sims = cosine_similarity(avg_vec, all_vecs)[0]\n",
    "\n",
    "    # Sort & Pick top_n artists\n",
    "    ranked = sorted(zip(all_ids, sims), key=lambda x: -x[1])\n",
    "    results = []\n",
    "    for artist_id, score in ranked:\n",
    "        if artist_id in seed_ids:\n",
    "            continue\n",
    "        results.append((artist_id, id_to_name[artist_id], float(score)))\n",
    "        if len(results) >= top_n:\n",
    "            break\n",
    "    return results"
   ]
  },
  {
   "cell_type": "markdown",
   "id": "89c3729e-2c58-431c-861e-5c2352782adb",
   "metadata": {},
   "source": [
    "# Testing"
   ]
  },
  {
   "cell_type": "code",
   "execution_count": 5,
   "id": "ef805f0e-e24f-4afa-84e4-acdf84783d7e",
   "metadata": {},
   "outputs": [
    {
     "name": "stdout",
     "output_type": "stream",
     "text": [
      "Test One\n",
      "Agus Padilla (8c60339b-1cf5-431d-a54b-3386e5948cf6): similarity 0.576\n",
      "Snow Tha Product (b01522ca-6b5c-4692-8471-1dd8362b71e2): similarity 0.574\n",
      "Rico Nasty (7a6e3e39-be7d-449b-a7af-8d4d6914c9a1): similarity 0.572\n",
      "070 Shake (464abc49-32ec-4ab4-83d6-64bac9f4d735): similarity 0.569\n",
      "Arca (c3cdf4ff-2ecf-4bd0-977d-9fac7f06ed61): similarity 0.568\n",
      "Tiago PZK (168ce981-cbb3-4450-9dd7-2de4efebfc89): similarity 0.563\n",
      "Britney Spears (4f02731a-2807-47f9-a604-584ca3192675): similarity 0.561\n",
      "Preston Pablo (69b89325-cf09-4e8e-80f4-3b964cbe6573): similarity 0.558\n",
      "Myriam Hernandez (ff98c316-c169-46f7-a5cc-9c7aea736e55): similarity 0.557\n",
      "Erykah Badu (957ab85e-306c-4de1-a01f-3461048095f3): similarity 0.556\n"
     ]
    }
   ],
   "source": [
    "test_seed_1 = [\n",
    "    \"1b72e4a5-5d2e-419a-beca-8a32b8e6f32c\",\n",
    "    \"bbb6c760-16e8-4c28-b3d6-e7b295a2cadc\"\n",
    "]\n",
    "\n",
    "all_ids = list(embeddings.keys())\n",
    "all_vecs = np.vstack([embeddings[i] for i in all_ids])\n",
    "\n",
    "print(\"Test One\")\n",
    "top10_1 = recommend(test_seed_1, all_ids, all_vecs, top_n=10, )\n",
    "for art_id, name, score in top10_1:\n",
    "    print(f\"{name} ({art_id}): similarity {score:.3f}\")"
   ]
  },
  {
   "cell_type": "code",
   "execution_count": null,
   "id": "cc7a15f2-feaa-4ef5-85a9-34ddfbcb4ead",
   "metadata": {},
   "outputs": [],
   "source": [
    "test_seed_2 = [\n",
    "    \"4948bf06-91fb-411b-ba43-b77183f29246\",   #The Weeknd\n",
    "    \"2cca00c0-db1f-4630-b119-d937d1635024\",   #Drake\n",
    "    \"bbb6c760-16e8-4c28-b3d6-e7b295a2cadc\",   #Bad Bunny\n",
    "    \"c87f2137-16d8-4399-9e5f-77dec6102560\",   #Metro Boomin\n",
    "]\n",
    "print(\"\\nTest Two\")\n",
    "top10_2 = recommend(test_seed_2, all_ids, all_vecs, top_n=10, True)\n",
    "for art_id, name, score in top10_2:\n",
    "    print(f\"{name} ({art_id}): similarity {score:.3f}\")\n",
    "    "
   ]
  },
  {
   "cell_type": "code",
   "execution_count": null,
   "id": "108c88b9-dda8-42f1-a4ef-ae58b7cff005",
   "metadata": {},
   "outputs": [],
   "source": []
  }
 ],
 "metadata": {
  "kernelspec": {
   "display_name": "Python 3 (ipykernel)",
   "language": "python",
   "name": "python3"
  },
  "language_info": {
   "codemirror_mode": {
    "name": "ipython",
    "version": 3
   },
   "file_extension": ".py",
   "mimetype": "text/x-python",
   "name": "python",
   "nbconvert_exporter": "python",
   "pygments_lexer": "ipython3",
   "version": "3.12.2"
  }
 },
 "nbformat": 4,
 "nbformat_minor": 5
}
